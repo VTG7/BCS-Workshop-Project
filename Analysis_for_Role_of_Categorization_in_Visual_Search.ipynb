{
  "nbformat": 4,
  "nbformat_minor": 0,
  "metadata": {
    "colab": {
      "name": "Analysis for Role of Categorization in Visual Search.ipynb",
      "provenance": [],
      "collapsed_sections": [],
      "authorship_tag": "ABX9TyOQl6yCopNJ+K8xe/w3KZeL",
      "include_colab_link": true
    },
    "kernelspec": {
      "name": "python3",
      "display_name": "Python 3"
    }
  },
  "cells": [
    {
      "cell_type": "markdown",
      "metadata": {
        "id": "view-in-github",
        "colab_type": "text"
      },
      "source": [
        "<a href=\"https://colab.research.google.com/github/VTG7/BCS-Workshop-Project/blob/main/Analysis_for_Role_of_Categorization_in_Visual_Search.ipynb\" target=\"_parent\"><img src=\"https://colab.research.google.com/assets/colab-badge.svg\" alt=\"Open In Colab\"/></a>"
      ]
    },
    {
      "cell_type": "code",
      "metadata": {
        "id": "1tw-pRE0Q7gK"
      },
      "source": [
        "import numpy as np\n",
        "import matplotlib.pyplot as plt\n",
        "import pandas as pd\n",
        "from scipy import stats\n"
      ],
      "execution_count": null,
      "outputs": []
    },
    {
      "cell_type": "code",
      "metadata": {
        "id": "kRdqIf3xQ9eD"
      },
      "source": [
        "data = pd.read_csv(\"data.csv\", sep=\",\").values\n",
        "exp_1_data = []\n",
        "exp_2_data = []\n",
        "exp_3_data = []\n",
        "for i in range(8):\n",
        "  exp_1_data.append(pd.read_csv(\"\" + data[i, 4], sep=\" \", header=None).values)\n",
        "  exp_2_data.append(pd.read_csv(\"\" + data[i, 5], sep=\" \", header=None).values)\n",
        "  exp_3_data.append(pd.read_csv(\"\" + data[i, 6], sep=\" \", header=None).values)"
      ],
      "execution_count": null,
      "outputs": []
    },
    {
      "cell_type": "code",
      "metadata": {
        "id": "idkF4182p0Rs"
      },
      "source": [
        "def exp1():\n",
        "  rt=[0,0,0,0]\n",
        "  c=[0,0,0,0]\n",
        "  count=0\n",
        "  for i in range(8):\n",
        "    for j in range(60):\n",
        "      if (exp_1_data[i][j,1] == 6 ):\n",
        "        rt[0]+=exp_1_data[i][j,3]\n",
        "        c[0]+=1\n",
        "        count+=1\n",
        "      elif(exp_1_data[i][j,1] == 12 ):\n",
        "        rt[1]+=exp_1_data[i][j,3]\n",
        "        c[1]+=1\n",
        "        count+=1\n",
        "      elif(exp_1_data[i][j,1] == 18 ):\n",
        "        rt[2]+=exp_1_data[i][j,3]\n",
        "        c[2]+=1\n",
        "        count+=1\n",
        "      elif(exp_1_data[i][j,1] == 24 ):\n",
        "        rt[3]+=exp_1_data[i][j,3]\n",
        "        c[3]+=1\n",
        "        count+=1\n",
        "      elif(exp_1_data[i][j,1]>100 and exp_1_data[i][j,2]!=1):\n",
        "        count+=1\n",
        "  for i in range(len(rt)):\n",
        "      rt[i]=rt[i]/c[i]\n",
        "  return rt,c,count\n",
        "        \n"
      ],
      "execution_count": null,
      "outputs": []
    },
    {
      "cell_type": "code",
      "metadata": {
        "id": "9VrOXuIS1mrT"
      },
      "source": [
        "def exp1_alone():\n",
        "  rt=[0,0,0,0]\n",
        "  c=[0,0,0,0]\n",
        "  count=0\n",
        "  wt=[]\n",
        "  i=7\n",
        "  if i==7:\n",
        "    for j in range(60):\n",
        "      if (exp_1_data[i][j,1] == 6 and exp_1_data[i][j,2]==1):\n",
        "        rt[0]+=exp_1_data[i][j,3]\n",
        "        c[0]+=1\n",
        "        count+=1\n",
        "      elif(exp_1_data[i][j,1] == 12 and exp_1_data[i][j,2]==1):\n",
        "        rt[1]+=exp_1_data[i][j,3]\n",
        "        c[1]+=1\n",
        "        count+=1\n",
        "      elif(exp_1_data[i][j,1] == 18 and exp_1_data[i][j,2]==1):\n",
        "        rt[2]+=exp_1_data[i][j,3]\n",
        "        c[2]+=1\n",
        "        count+=1\n",
        "      elif(exp_1_data[i][j,1] == 24 and exp_1_data[i][j,2]==1):\n",
        "        rt[3]+=exp_1_data[i][j,3]\n",
        "        c[3]+=1\n",
        "        count+=1\n",
        "      elif(exp_1_data[i][j,1]>100 and exp_1_data[i][j,2]!=1):\n",
        "        count+=1\n",
        "      else:\n",
        "        wt.append(exp_1_data[i][j,3])\n",
        "        print(exp_1_data[i][j,1])\n",
        "  for i in range(len(rt)):\n",
        "      rt[i]=rt[i]/c[i]\n",
        "  \n",
        "  return rt,c,count,wt"
      ],
      "execution_count": null,
      "outputs": []
    },
    {
      "cell_type": "code",
      "metadata": {
        "id": "FRryyiC4OGfO",
        "colab": {
          "base_uri": "https://localhost:8080/",
          "height": 34
        },
        "outputId": "6210bef1-68a8-4a1f-e18a-0e49eca539d3"
      },
      "source": [
        "rt,c,count,wt=exp1_alone()\n",
        "print(count)"
      ],
      "execution_count": null,
      "outputs": [
        {
          "output_type": "stream",
          "text": [
            "60\n"
          ],
          "name": "stdout"
        }
      ]
    },
    {
      "cell_type": "code",
      "metadata": {
        "id": "WoAvCnmo34UM"
      },
      "source": [
        "def exp2():\n",
        "  rt=[0,0,0,0]\n",
        "  c=[0,0,0,0]\n",
        "  count=0\n",
        "  for i in range(8):\n",
        "    for j in range(60):\n",
        "      if (exp_2_data[i][j,1] == 6 ):\n",
        "        rt[0]+=exp_2_data[i][j,3]\n",
        "        c[0]+=1\n",
        "        count+=1\n",
        "      elif(exp_2_data[i][j,1] == 12 ):\n",
        "        rt[1]+=exp_2_data[i][j,3]\n",
        "        c[1]+=1\n",
        "        count+=1\n",
        "      elif(exp_2_data[i][j,1] == 18):\n",
        "        rt[2]+=exp_2_data[i][j,3]\n",
        "        c[2]+=1\n",
        "        count+=1\n",
        "      elif(exp_2_data[i][j,1] == 24 ):\n",
        "        rt[3]+=exp_2_data[i][j,3]\n",
        "        c[3]+=1\n",
        "        count+=1\n",
        "      elif(exp_2_data[i][j,1]>100 and exp_2_data[i][j,2]!=1):\n",
        "        count+=1\n",
        "  for i in range(len(rt)):\n",
        "      rt[i]=rt[i]/c[i]\n",
        "  return rt,c,count\n",
        "        \n"
      ],
      "execution_count": null,
      "outputs": []
    },
    {
      "cell_type": "code",
      "metadata": {
        "id": "T8PgnScfOy92"
      },
      "source": [
        "def exp2_alone():\n",
        "  rt=[0,0,0,0]\n",
        "  c=[0,0,0,0]\n",
        "  count=0\n",
        "  wt=[]\n",
        "  i=7\n",
        "  if i==7:\n",
        "    for j in range(60):\n",
        "      if (exp_2_data[i][j,1] == 6 and exp_2_data[i][j,2]==1):\n",
        "        rt[0]+=exp_2_data[i][j,3]\n",
        "        c[0]+=1\n",
        "        count+=1\n",
        "      elif(exp_2_data[i][j,1] == 12 and exp_2_data[i][j,2]==1):\n",
        "        rt[1]+=exp_2_data[i][j,3]\n",
        "        c[1]+=1\n",
        "        count+=1\n",
        "      elif(exp_2_data[i][j,1] == 18 and exp_2_data[i][j,2]==1):\n",
        "        rt[2]+=exp_2_data[i][j,3]\n",
        "        c[2]+=1\n",
        "        count+=1\n",
        "      elif(exp_2_data[i][j,1] == 24 and exp_2_data[i][j,2]==1):\n",
        "        rt[3]+=exp_2_data[i][j,3]\n",
        "        c[3]+=1\n",
        "        count+=1\n",
        "      elif(exp_2_data[i][j,1]>100 and exp_2_data[i][j,2]!=1):\n",
        "        count+=1\n",
        "      else:\n",
        "        wt.append(exp_2_data[i][j,3])\n",
        "        print(exp_2_data[i][j,1])\n",
        "  for i in range(len(rt)):\n",
        "      rt[i]=rt[i]/c[i]\n",
        "  return rt,c,count,wt"
      ],
      "execution_count": null,
      "outputs": []
    },
    {
      "cell_type": "code",
      "metadata": {
        "id": "TeICVionPAa9",
        "colab": {
          "base_uri": "https://localhost:8080/",
          "height": 52
        },
        "outputId": "126c2133-733a-4f55-b48c-c5875f79afb5"
      },
      "source": [
        "rt,c,count,wt=exp2_alone()\n",
        "print(count)"
      ],
      "execution_count": null,
      "outputs": [
        {
          "output_type": "stream",
          "text": [
            "124\n",
            "59\n"
          ],
          "name": "stdout"
        }
      ]
    },
    {
      "cell_type": "code",
      "metadata": {
        "id": "9zDE8luyCRIi"
      },
      "source": [
        "def exp3():\n",
        "  rt=[0,0,0,0]\n",
        "  c=[0,0,0,0]\n",
        "  count=0\n",
        "  for i in range(8):\n",
        "    for j in range(60):\n",
        "      if (exp_3_data[i][j,1] == 6 ):\n",
        "        rt[0]+=exp_3_data[i][j,3]\n",
        "        c[0]+=1\n",
        "        count+=1\n",
        "      elif(exp_3_data[i][j,1] == 12 ):\n",
        "        rt[1]+=exp_3_data[i][j,3]\n",
        "        c[1]+=1\n",
        "        count+=1\n",
        "      elif(exp_3_data[i][j,1] == 18 ):\n",
        "        rt[2]+=exp_3_data[i][j,3]\n",
        "        c[2]+=1\n",
        "        count+=1\n",
        "      elif(exp_3_data[i][j,1] == 24 ):\n",
        "        rt[3]+=exp_3_data[i][j,3]\n",
        "        c[3]+=1\n",
        "        count+=1\n",
        "      elif(exp_3_data[i][j,1]>100 and exp_3_data[i][j,2]!=1):\n",
        "        count+=1\n",
        "  for i in range(len(rt)):\n",
        "      rt[i]=rt[i]/c[i]\n",
        "  return rt,c,count\n",
        "        \n"
      ],
      "execution_count": null,
      "outputs": []
    },
    {
      "cell_type": "code",
      "metadata": {
        "id": "iRA2OJKTCtgg"
      },
      "source": [
        "def exp3_alone():\n",
        "  rt=[0,0,0,0]\n",
        "  c=[0,0,0,0]\n",
        "  count=0\n",
        "  wt=[]\n",
        "  i=7\n",
        "  if i ==7 :\n",
        "    for j in range(60):\n",
        "      if (exp_3_data[i][j,1] == 6 and exp_3_data[i][j,2]==1):\n",
        "        rt[0]+=exp_3_data[i][j,3]\n",
        "        c[0]+=1\n",
        "        count+=1\n",
        "      elif(exp_3_data[i][j,1] == 12 and exp_3_data[i][j,2]==1):\n",
        "        rt[1]+=exp_3_data[i][j,3]\n",
        "        c[1]+=1\n",
        "        count+=1\n",
        "      elif(exp_3_data[i][j,1] == 18 and exp_3_data[i][j,2]==1):\n",
        "        rt[2]+=exp_3_data[i][j,3]\n",
        "        c[2]+=1\n",
        "        count+=1\n",
        "      elif(exp_3_data[i][j,1] == 24 and exp_3_data[i][j,2]==1):\n",
        "        rt[3]+=exp_3_data[i][j,3]\n",
        "        c[3]+=1\n",
        "        count+=1\n",
        "      elif(exp_3_data[i][j,1]>100 and exp_3_data[i][j,2]!=1):\n",
        "        count+=1\n",
        "      else:\n",
        "        wt.append(exp_3_data[i][j,3])\n",
        "        \n",
        "        print(exp_3_data[i][j,1])\n",
        "  for i in range(len(rt)):\n",
        "      rt[i]=rt[i]/c[i]\n",
        "  return rt,c,count,wt"
      ],
      "execution_count": null,
      "outputs": []
    },
    {
      "cell_type": "code",
      "metadata": {
        "id": "no9-uV17k81s",
        "colab": {
          "base_uri": "https://localhost:8080/",
          "height": 52
        },
        "outputId": "82bd5a8a-166a-4dff-ccae-3b55b2afe528"
      },
      "source": [
        "rt,c,count,wt=exp3_alone()\n",
        "print(count)"
      ],
      "execution_count": null,
      "outputs": [
        {
          "output_type": "stream",
          "text": [
            "118\n",
            "59\n"
          ],
          "name": "stdout"
        }
      ]
    },
    {
      "cell_type": "code",
      "metadata": {
        "id": "xa5RvsFGTL02"
      },
      "source": [
        "print(exp_3_data[0])"
      ],
      "execution_count": null,
      "outputs": []
    },
    {
      "cell_type": "code",
      "metadata": {
        "id": "-UgyE4PdFYWm",
        "colab": {
          "base_uri": "https://localhost:8080/",
          "height": 578
        },
        "outputId": "290b7ee9-b888-4f85-b0de-614096b9f71c"
      },
      "source": [
        "rt1,c1,count1=exp1()\n",
        "rt3,c3,count3=exp3()\n",
        "rt2,c2,count2=exp2()\n",
        "x=[6,12,18,24]\n",
        "mean1=np.mean(rt1)\n",
        "median1=np.median(rt1)\n",
        "mode1=stats.mode(rt1)\n",
        "var1=np.var(rt1)\n",
        "print(\"Mean for exp1 is: \",mean1)\n",
        "print(\"Median for exp1 is: \",median1)\n",
        "print(\"Mode for exp1 is: \",mode1[0][0])\n",
        "print(\"Variance for exp1 is: \",var1)\n",
        "print(\"\\n\")\n",
        "mean2=np.mean(rt2)\n",
        "median2=np.median(rt2)\n",
        "mode2=stats.mode(rt2)\n",
        "var2=np.var(rt2)\n",
        "print(\"Mean for exp2 is: \",mean2)\n",
        "print(\"Median for exp2 is: \",median2)\n",
        "print(\"Mode for exp2 is: \",mode2[0][0])\n",
        "print(\"Variance for exp2 is: \",var2)\n",
        "print(\"\\n\")\n",
        "mean3=np.mean(rt3)\n",
        "median3=np.median(rt3)\n",
        "mode3=stats.mode(rt3)\n",
        "var3=np.var(rt3)\n",
        "print(\"Mean for exp3 is: \",mean3)\n",
        "print(\"Median for exp3 is: \",median3)\n",
        "print(\"Mode for exp3 is: \",mode3[0][0])\n",
        "print(\"Variance for exp3 is: \",var3)\n",
        "\n",
        "\n",
        "plt.plot(x,rt1,'b-',label=\"Left-Only\")\n",
        "plt.plot(x,rt2,'g-',label=\"Steep-Only\")\n",
        "plt.plot(x,rt3,'r-',label=\"Steep-left\")\n",
        "plt.plot(x,rt1,'bD')\n",
        "plt.plot(x,rt2,'gD')\n",
        "plt.plot(x,rt3,'rD')\n",
        "plt.title('Average RT vs Size of Items')\n",
        "plt.ylabel('Average Reaction Time')\n",
        "plt.xlabel('Size of items(number of objects displayed per frame)')\n",
        "plt.xticks(np.arange(min(x), max(x)+1, 6.0))\n",
        "plt.legend()\n",
        "\n",
        "from google.colab import files\n",
        "plt.savefig(\"plot_final.png\")\n",
        "files.download(\"plot_final.png\") "
      ],
      "execution_count": null,
      "outputs": [
        {
          "output_type": "stream",
          "text": [
            "Mean for exp1 is:  798.09375\n",
            "Median for exp1 is:  777.175\n",
            "Mode for exp1 is:  746.6875\n",
            "Variance for exp1 is:  3053.1782421874987\n",
            "\n",
            "\n",
            "Mean for exp2 is:  963.9687499999999\n",
            "Median for exp2 is:  984.23125\n",
            "Mode for exp2 is:  810.125\n",
            "Variance for exp2 is:  9657.509726562495\n",
            "\n",
            "\n",
            "Mean for exp3 is:  982.7624999999999\n",
            "Median for exp3 is:  964.76875\n",
            "Mode for exp3 is:  856.1625\n",
            "Variance for exp3 is:  12418.022109374993\n"
          ],
          "name": "stdout"
        },
        {
          "output_type": "display_data",
          "data": {
            "image/png": "[encoded data removed]",
            "text/plain": [
              "<Figure size 432x288 with 1 Axes>"
            ]
          },
          "metadata": {
            "tags": [],
            "needs_background": "light"
          }
        }
      ]
    },
    {
      "cell_type": "code",
      "metadata": {
        "id": "YeojsEDZfVH8"
      },
      "source": [
        ""
      ],
      "execution_count": null,
      "outputs": []
    }
  ]
}